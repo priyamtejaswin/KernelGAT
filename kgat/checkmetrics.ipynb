{
 "cells": [
  {
   "cell_type": "code",
   "execution_count": 70,
   "id": "bd639ef2-0906-429c-bc5e-8502b1601d3b",
   "metadata": {},
   "outputs": [],
   "source": [
    "import json"
   ]
  },
  {
   "cell_type": "code",
   "execution_count": 71,
   "id": "0257b2d6-5f64-40aa-bb79-aaa20b3644e2",
   "metadata": {},
   "outputs": [],
   "source": [
    "with open('../data/bert_eval.json') as fp:\n",
    "    truth = []\n",
    "    for row in fp.readlines():\n",
    "        truth.append(json.loads(row.strip()))"
   ]
  },
  {
   "cell_type": "code",
   "execution_count": 72,
   "id": "dc00d8b7-cc9c-45ec-af45-40b31eceea7f",
   "metadata": {},
   "outputs": [
    {
     "data": {
      "text/plain": [
       "19998"
      ]
     },
     "execution_count": 72,
     "metadata": {},
     "output_type": "execute_result"
    }
   ],
   "source": [
    "len(truth)"
   ]
  },
  {
   "cell_type": "code",
   "execution_count": 73,
   "id": "53edce7d-3c84-434d-a1dd-002b020edf3b",
   "metadata": {},
   "outputs": [
    {
     "name": "stdout",
     "output_type": "stream",
     "text": [
      "total 3.7M\n",
      "-rw-r--r-- 1 root root 1.2K Sep  7  2020 prepare.py\n",
      "-rw-r--r-- 1 root root  109 Sep  7  2020 run_prepare.sh\n",
      "-rw-r--r-- 1 root root 926K Nov  7 17:27 dev.json\n",
      "-rw-r--r-- 1 root root 928K Nov  7 17:48 test.json\n",
      "-rw-r--r-- 1 root root 918K Nov  8 05:26 new_dev.json\n",
      "-rw-r--r-- 1 root root 926K Nov  8 16:04 final_dev.json\n"
     ]
    }
   ],
   "source": [
    "!ls -lhtr output"
   ]
  },
  {
   "cell_type": "code",
   "execution_count": 74,
   "id": "fcae48d7-ea68-4fe5-be27-d173ae71b21b",
   "metadata": {},
   "outputs": [],
   "source": [
    "with open('output/final_dev.json') as fp:\n",
    "    preds = []\n",
    "    for row in fp.readlines():\n",
    "        preds.append(json.loads(row.strip()))"
   ]
  },
  {
   "cell_type": "code",
   "execution_count": 75,
   "id": "04951bc8-a87f-46a3-8050-42d716e98561",
   "metadata": {},
   "outputs": [
    {
     "data": {
      "text/plain": [
       "19998"
      ]
     },
     "execution_count": 75,
     "metadata": {},
     "output_type": "execute_result"
    }
   ],
   "source": [
    "len(preds)"
   ]
  },
  {
   "cell_type": "code",
   "execution_count": 76,
   "id": "152e1fd2-39f3-49b7-ae94-ad412a45edf0",
   "metadata": {},
   "outputs": [],
   "source": [
    "truth = {d['id']:d for d in truth}"
   ]
  },
  {
   "cell_type": "code",
   "execution_count": 77,
   "id": "1386940d-cea2-4028-b6eb-23eb1cbcb1de",
   "metadata": {},
   "outputs": [],
   "source": [
    "preds = {d['id']:d for d in preds}"
   ]
  },
  {
   "cell_type": "code",
   "execution_count": 78,
   "id": "9fe2dc4d-3162-4df8-af01-5b6d7c7a73b7",
   "metadata": {},
   "outputs": [],
   "source": [
    "acc = 0\n",
    "\n",
    "for key, data in preds.items():\n",
    "    assert key in truth\n",
    "    acc += data['predicted_label'] == truth[key]['label']"
   ]
  },
  {
   "cell_type": "code",
   "execution_count": 79,
   "id": "6f2e71d7-b45e-4cdb-a7cc-7a145e91a0f5",
   "metadata": {},
   "outputs": [
    {
     "name": "stdout",
     "output_type": "stream",
     "text": [
      "Accuracy: 0.7988298829882988\n"
     ]
    }
   ],
   "source": [
    "print(\"Accuracy:\", acc/len(truth))"
   ]
  },
  {
   "cell_type": "code",
   "execution_count": null,
   "id": "84dfaa42-2105-48ca-a382-649ef782c8d1",
   "metadata": {},
   "outputs": [],
   "source": []
  }
 ],
 "metadata": {
  "kernelspec": {
   "display_name": "Python 3 (ipykernel)",
   "language": "python",
   "name": "python3"
  },
  "language_info": {
   "codemirror_mode": {
    "name": "ipython",
    "version": 3
   },
   "file_extension": ".py",
   "mimetype": "text/x-python",
   "name": "python",
   "nbconvert_exporter": "python",
   "pygments_lexer": "ipython3",
   "version": "3.8.10"
  }
 },
 "nbformat": 4,
 "nbformat_minor": 5
}
